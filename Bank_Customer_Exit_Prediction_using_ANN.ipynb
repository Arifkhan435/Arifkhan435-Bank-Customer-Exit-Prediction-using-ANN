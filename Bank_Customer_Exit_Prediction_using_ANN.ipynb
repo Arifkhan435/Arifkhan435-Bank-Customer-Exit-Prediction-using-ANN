{
  "nbformat": 4,
  "nbformat_minor": 0,
  "metadata": {
    "colab": {
      "name": "Bank Customer Exit Prediction using ANN.ipynb",
      "provenance": []
    },
    "kernelspec": {
      "name": "python3",
      "display_name": "Python 3"
    },
    "language_info": {
      "name": "python"
    }
  },
  "cells": [
    {
      "cell_type": "code",
      "execution_count": 35,
      "metadata": {
        "id": "LSc1Yr42zBHs"
      },
      "outputs": [],
      "source": [
        "## Importing Important Libraraies\n",
        "import pandas as pd\n",
        "import numpy as np\n",
        "import matplotlib.pyplot as plt\n",
        "import seaborn as sns\n",
        "%matplotlib inline"
      ]
    },
    {
      "cell_type": "markdown",
      "source": [
        "# **Part 1: Dataset uploading the Feature Engineernig**"
      ],
      "metadata": {
        "id": "shN79bs-CiM1"
      }
    },
    {
      "cell_type": "code",
      "source": [
        "## Importing the Bank Customer Datsets\n",
        "df = pd.read_csv('BankCustomers.csv')\n",
        "df.head()\n"
      ],
      "metadata": {
        "colab": {
          "base_uri": "https://localhost:8080/",
          "height": 206
        },
        "id": "bTmtRS5b0a-P",
        "outputId": "d6238f3a-457e-4245-9238-6f0d2bb7b5f2"
      },
      "execution_count": 36,
      "outputs": [
        {
          "output_type": "execute_result",
          "data": {
            "text/plain": [
              "   RowNumber  CustomerId   Surname  CreditScore Geography  Gender  Age  \\\n",
              "0          1    15634602  Hargrave          619    France  Female   42   \n",
              "1          2    15647311      Hill          608     Spain  Female   41   \n",
              "2          3    15619304      Onio          502    France  Female   42   \n",
              "3          4    15701354      Boni          699    France  Female   39   \n",
              "4          5    15737888  Mitchell          850     Spain  Female   43   \n",
              "\n",
              "   Tenure    Balance  NumOfProducts  HasCrCard  IsActiveMember  \\\n",
              "0       2       0.00              1          1               1   \n",
              "1       1   83807.86              1          0               1   \n",
              "2       8  159660.80              3          1               0   \n",
              "3       1       0.00              2          0               0   \n",
              "4       2  125510.82              1          1               1   \n",
              "\n",
              "   EstimatedSalary  Exited  \n",
              "0        101348.88       1  \n",
              "1        112542.58       0  \n",
              "2        113931.57       1  \n",
              "3         93826.63       0  \n",
              "4         79084.10       0  "
            ],
            "text/html": [
              "\n",
              "  <div id=\"df-a4b39a5f-9da5-4134-b3b0-4306b434adef\">\n",
              "    <div class=\"colab-df-container\">\n",
              "      <div>\n",
              "<style scoped>\n",
              "    .dataframe tbody tr th:only-of-type {\n",
              "        vertical-align: middle;\n",
              "    }\n",
              "\n",
              "    .dataframe tbody tr th {\n",
              "        vertical-align: top;\n",
              "    }\n",
              "\n",
              "    .dataframe thead th {\n",
              "        text-align: right;\n",
              "    }\n",
              "</style>\n",
              "<table border=\"1\" class=\"dataframe\">\n",
              "  <thead>\n",
              "    <tr style=\"text-align: right;\">\n",
              "      <th></th>\n",
              "      <th>RowNumber</th>\n",
              "      <th>CustomerId</th>\n",
              "      <th>Surname</th>\n",
              "      <th>CreditScore</th>\n",
              "      <th>Geography</th>\n",
              "      <th>Gender</th>\n",
              "      <th>Age</th>\n",
              "      <th>Tenure</th>\n",
              "      <th>Balance</th>\n",
              "      <th>NumOfProducts</th>\n",
              "      <th>HasCrCard</th>\n",
              "      <th>IsActiveMember</th>\n",
              "      <th>EstimatedSalary</th>\n",
              "      <th>Exited</th>\n",
              "    </tr>\n",
              "  </thead>\n",
              "  <tbody>\n",
              "    <tr>\n",
              "      <th>0</th>\n",
              "      <td>1</td>\n",
              "      <td>15634602</td>\n",
              "      <td>Hargrave</td>\n",
              "      <td>619</td>\n",
              "      <td>France</td>\n",
              "      <td>Female</td>\n",
              "      <td>42</td>\n",
              "      <td>2</td>\n",
              "      <td>0.00</td>\n",
              "      <td>1</td>\n",
              "      <td>1</td>\n",
              "      <td>1</td>\n",
              "      <td>101348.88</td>\n",
              "      <td>1</td>\n",
              "    </tr>\n",
              "    <tr>\n",
              "      <th>1</th>\n",
              "      <td>2</td>\n",
              "      <td>15647311</td>\n",
              "      <td>Hill</td>\n",
              "      <td>608</td>\n",
              "      <td>Spain</td>\n",
              "      <td>Female</td>\n",
              "      <td>41</td>\n",
              "      <td>1</td>\n",
              "      <td>83807.86</td>\n",
              "      <td>1</td>\n",
              "      <td>0</td>\n",
              "      <td>1</td>\n",
              "      <td>112542.58</td>\n",
              "      <td>0</td>\n",
              "    </tr>\n",
              "    <tr>\n",
              "      <th>2</th>\n",
              "      <td>3</td>\n",
              "      <td>15619304</td>\n",
              "      <td>Onio</td>\n",
              "      <td>502</td>\n",
              "      <td>France</td>\n",
              "      <td>Female</td>\n",
              "      <td>42</td>\n",
              "      <td>8</td>\n",
              "      <td>159660.80</td>\n",
              "      <td>3</td>\n",
              "      <td>1</td>\n",
              "      <td>0</td>\n",
              "      <td>113931.57</td>\n",
              "      <td>1</td>\n",
              "    </tr>\n",
              "    <tr>\n",
              "      <th>3</th>\n",
              "      <td>4</td>\n",
              "      <td>15701354</td>\n",
              "      <td>Boni</td>\n",
              "      <td>699</td>\n",
              "      <td>France</td>\n",
              "      <td>Female</td>\n",
              "      <td>39</td>\n",
              "      <td>1</td>\n",
              "      <td>0.00</td>\n",
              "      <td>2</td>\n",
              "      <td>0</td>\n",
              "      <td>0</td>\n",
              "      <td>93826.63</td>\n",
              "      <td>0</td>\n",
              "    </tr>\n",
              "    <tr>\n",
              "      <th>4</th>\n",
              "      <td>5</td>\n",
              "      <td>15737888</td>\n",
              "      <td>Mitchell</td>\n",
              "      <td>850</td>\n",
              "      <td>Spain</td>\n",
              "      <td>Female</td>\n",
              "      <td>43</td>\n",
              "      <td>2</td>\n",
              "      <td>125510.82</td>\n",
              "      <td>1</td>\n",
              "      <td>1</td>\n",
              "      <td>1</td>\n",
              "      <td>79084.10</td>\n",
              "      <td>0</td>\n",
              "    </tr>\n",
              "  </tbody>\n",
              "</table>\n",
              "</div>\n",
              "      <button class=\"colab-df-convert\" onclick=\"convertToInteractive('df-a4b39a5f-9da5-4134-b3b0-4306b434adef')\"\n",
              "              title=\"Convert this dataframe to an interactive table.\"\n",
              "              style=\"display:none;\">\n",
              "        \n",
              "  <svg xmlns=\"http://www.w3.org/2000/svg\" height=\"24px\"viewBox=\"0 0 24 24\"\n",
              "       width=\"24px\">\n",
              "    <path d=\"M0 0h24v24H0V0z\" fill=\"none\"/>\n",
              "    <path d=\"M18.56 5.44l.94 2.06.94-2.06 2.06-.94-2.06-.94-.94-2.06-.94 2.06-2.06.94zm-11 1L8.5 8.5l.94-2.06 2.06-.94-2.06-.94L8.5 2.5l-.94 2.06-2.06.94zm10 10l.94 2.06.94-2.06 2.06-.94-2.06-.94-.94-2.06-.94 2.06-2.06.94z\"/><path d=\"M17.41 7.96l-1.37-1.37c-.4-.4-.92-.59-1.43-.59-.52 0-1.04.2-1.43.59L10.3 9.45l-7.72 7.72c-.78.78-.78 2.05 0 2.83L4 21.41c.39.39.9.59 1.41.59.51 0 1.02-.2 1.41-.59l7.78-7.78 2.81-2.81c.8-.78.8-2.07 0-2.86zM5.41 20L4 18.59l7.72-7.72 1.47 1.35L5.41 20z\"/>\n",
              "  </svg>\n",
              "      </button>\n",
              "      \n",
              "  <style>\n",
              "    .colab-df-container {\n",
              "      display:flex;\n",
              "      flex-wrap:wrap;\n",
              "      gap: 12px;\n",
              "    }\n",
              "\n",
              "    .colab-df-convert {\n",
              "      background-color: #E8F0FE;\n",
              "      border: none;\n",
              "      border-radius: 50%;\n",
              "      cursor: pointer;\n",
              "      display: none;\n",
              "      fill: #1967D2;\n",
              "      height: 32px;\n",
              "      padding: 0 0 0 0;\n",
              "      width: 32px;\n",
              "    }\n",
              "\n",
              "    .colab-df-convert:hover {\n",
              "      background-color: #E2EBFA;\n",
              "      box-shadow: 0px 1px 2px rgba(60, 64, 67, 0.3), 0px 1px 3px 1px rgba(60, 64, 67, 0.15);\n",
              "      fill: #174EA6;\n",
              "    }\n",
              "\n",
              "    [theme=dark] .colab-df-convert {\n",
              "      background-color: #3B4455;\n",
              "      fill: #D2E3FC;\n",
              "    }\n",
              "\n",
              "    [theme=dark] .colab-df-convert:hover {\n",
              "      background-color: #434B5C;\n",
              "      box-shadow: 0px 1px 3px 1px rgba(0, 0, 0, 0.15);\n",
              "      filter: drop-shadow(0px 1px 2px rgba(0, 0, 0, 0.3));\n",
              "      fill: #FFFFFF;\n",
              "    }\n",
              "  </style>\n",
              "\n",
              "      <script>\n",
              "        const buttonEl =\n",
              "          document.querySelector('#df-a4b39a5f-9da5-4134-b3b0-4306b434adef button.colab-df-convert');\n",
              "        buttonEl.style.display =\n",
              "          google.colab.kernel.accessAllowed ? 'block' : 'none';\n",
              "\n",
              "        async function convertToInteractive(key) {\n",
              "          const element = document.querySelector('#df-a4b39a5f-9da5-4134-b3b0-4306b434adef');\n",
              "          const dataTable =\n",
              "            await google.colab.kernel.invokeFunction('convertToInteractive',\n",
              "                                                     [key], {});\n",
              "          if (!dataTable) return;\n",
              "\n",
              "          const docLinkHtml = 'Like what you see? Visit the ' +\n",
              "            '<a target=\"_blank\" href=https://colab.research.google.com/notebooks/data_table.ipynb>data table notebook</a>'\n",
              "            + ' to learn more about interactive tables.';\n",
              "          element.innerHTML = '';\n",
              "          dataTable['output_type'] = 'display_data';\n",
              "          await google.colab.output.renderOutput(dataTable, element);\n",
              "          const docLink = document.createElement('div');\n",
              "          docLink.innerHTML = docLinkHtml;\n",
              "          element.appendChild(docLink);\n",
              "        }\n",
              "      </script>\n",
              "    </div>\n",
              "  </div>\n",
              "  "
            ]
          },
          "metadata": {},
          "execution_count": 36
        }
      ]
    },
    {
      "cell_type": "code",
      "source": [
        "## Converting the dataset into dependent and independent variables\n",
        "\n",
        "x = df.iloc[:, 3:13]  #since first 3 columns are not important, so we do not consider that features.\n",
        "y = df['Exited']"
      ],
      "metadata": {
        "id": "DGl0shbY1LbM"
      },
      "execution_count": 37,
      "outputs": []
    },
    {
      "cell_type": "code",
      "source": [
        "## Converting Categorical feature into dummy variables\n",
        "countries = pd.get_dummies(x['Geography'], drop_first=True)\n",
        "sex  =pd.get_dummies(x['Gender'], drop_first=True)"
      ],
      "metadata": {
        "id": "aSk0dxdJ1Nxu"
      },
      "execution_count": 38,
      "outputs": []
    },
    {
      "cell_type": "code",
      "source": [
        "## Concatenate the remaining dummies columns\n",
        "x = pd.concat([x, countries, sex], axis=1) "
      ],
      "metadata": {
        "id": "qWJ0vwr52hLA"
      },
      "execution_count": 39,
      "outputs": []
    },
    {
      "cell_type": "code",
      "source": [
        "## Drop the Geography and Gender columns \n",
        "x = x.drop(['Geography', 'Gender'], axis=1)"
      ],
      "metadata": {
        "id": "d8yVKFsW2_3O"
      },
      "execution_count": 40,
      "outputs": []
    },
    {
      "cell_type": "code",
      "source": [
        "x.head()"
      ],
      "metadata": {
        "colab": {
          "base_uri": "https://localhost:8080/",
          "height": 206
        },
        "id": "ZDSqxNCo3UqL",
        "outputId": "8997e786-decf-4886-8b94-4027d85fcff2"
      },
      "execution_count": 41,
      "outputs": [
        {
          "output_type": "execute_result",
          "data": {
            "text/plain": [
              "   CreditScore  Age  Tenure    Balance  NumOfProducts  HasCrCard  \\\n",
              "0          619   42       2       0.00              1          1   \n",
              "1          608   41       1   83807.86              1          0   \n",
              "2          502   42       8  159660.80              3          1   \n",
              "3          699   39       1       0.00              2          0   \n",
              "4          850   43       2  125510.82              1          1   \n",
              "\n",
              "   IsActiveMember  EstimatedSalary  Germany  Spain  Male  \n",
              "0               1        101348.88        0      0     0  \n",
              "1               1        112542.58        0      1     0  \n",
              "2               0        113931.57        0      0     0  \n",
              "3               0         93826.63        0      0     0  \n",
              "4               1         79084.10        0      1     0  "
            ],
            "text/html": [
              "\n",
              "  <div id=\"df-50126b05-96df-468c-91b4-a17e0d98de06\">\n",
              "    <div class=\"colab-df-container\">\n",
              "      <div>\n",
              "<style scoped>\n",
              "    .dataframe tbody tr th:only-of-type {\n",
              "        vertical-align: middle;\n",
              "    }\n",
              "\n",
              "    .dataframe tbody tr th {\n",
              "        vertical-align: top;\n",
              "    }\n",
              "\n",
              "    .dataframe thead th {\n",
              "        text-align: right;\n",
              "    }\n",
              "</style>\n",
              "<table border=\"1\" class=\"dataframe\">\n",
              "  <thead>\n",
              "    <tr style=\"text-align: right;\">\n",
              "      <th></th>\n",
              "      <th>CreditScore</th>\n",
              "      <th>Age</th>\n",
              "      <th>Tenure</th>\n",
              "      <th>Balance</th>\n",
              "      <th>NumOfProducts</th>\n",
              "      <th>HasCrCard</th>\n",
              "      <th>IsActiveMember</th>\n",
              "      <th>EstimatedSalary</th>\n",
              "      <th>Germany</th>\n",
              "      <th>Spain</th>\n",
              "      <th>Male</th>\n",
              "    </tr>\n",
              "  </thead>\n",
              "  <tbody>\n",
              "    <tr>\n",
              "      <th>0</th>\n",
              "      <td>619</td>\n",
              "      <td>42</td>\n",
              "      <td>2</td>\n",
              "      <td>0.00</td>\n",
              "      <td>1</td>\n",
              "      <td>1</td>\n",
              "      <td>1</td>\n",
              "      <td>101348.88</td>\n",
              "      <td>0</td>\n",
              "      <td>0</td>\n",
              "      <td>0</td>\n",
              "    </tr>\n",
              "    <tr>\n",
              "      <th>1</th>\n",
              "      <td>608</td>\n",
              "      <td>41</td>\n",
              "      <td>1</td>\n",
              "      <td>83807.86</td>\n",
              "      <td>1</td>\n",
              "      <td>0</td>\n",
              "      <td>1</td>\n",
              "      <td>112542.58</td>\n",
              "      <td>0</td>\n",
              "      <td>1</td>\n",
              "      <td>0</td>\n",
              "    </tr>\n",
              "    <tr>\n",
              "      <th>2</th>\n",
              "      <td>502</td>\n",
              "      <td>42</td>\n",
              "      <td>8</td>\n",
              "      <td>159660.80</td>\n",
              "      <td>3</td>\n",
              "      <td>1</td>\n",
              "      <td>0</td>\n",
              "      <td>113931.57</td>\n",
              "      <td>0</td>\n",
              "      <td>0</td>\n",
              "      <td>0</td>\n",
              "    </tr>\n",
              "    <tr>\n",
              "      <th>3</th>\n",
              "      <td>699</td>\n",
              "      <td>39</td>\n",
              "      <td>1</td>\n",
              "      <td>0.00</td>\n",
              "      <td>2</td>\n",
              "      <td>0</td>\n",
              "      <td>0</td>\n",
              "      <td>93826.63</td>\n",
              "      <td>0</td>\n",
              "      <td>0</td>\n",
              "      <td>0</td>\n",
              "    </tr>\n",
              "    <tr>\n",
              "      <th>4</th>\n",
              "      <td>850</td>\n",
              "      <td>43</td>\n",
              "      <td>2</td>\n",
              "      <td>125510.82</td>\n",
              "      <td>1</td>\n",
              "      <td>1</td>\n",
              "      <td>1</td>\n",
              "      <td>79084.10</td>\n",
              "      <td>0</td>\n",
              "      <td>1</td>\n",
              "      <td>0</td>\n",
              "    </tr>\n",
              "  </tbody>\n",
              "</table>\n",
              "</div>\n",
              "      <button class=\"colab-df-convert\" onclick=\"convertToInteractive('df-50126b05-96df-468c-91b4-a17e0d98de06')\"\n",
              "              title=\"Convert this dataframe to an interactive table.\"\n",
              "              style=\"display:none;\">\n",
              "        \n",
              "  <svg xmlns=\"http://www.w3.org/2000/svg\" height=\"24px\"viewBox=\"0 0 24 24\"\n",
              "       width=\"24px\">\n",
              "    <path d=\"M0 0h24v24H0V0z\" fill=\"none\"/>\n",
              "    <path d=\"M18.56 5.44l.94 2.06.94-2.06 2.06-.94-2.06-.94-.94-2.06-.94 2.06-2.06.94zm-11 1L8.5 8.5l.94-2.06 2.06-.94-2.06-.94L8.5 2.5l-.94 2.06-2.06.94zm10 10l.94 2.06.94-2.06 2.06-.94-2.06-.94-.94-2.06-.94 2.06-2.06.94z\"/><path d=\"M17.41 7.96l-1.37-1.37c-.4-.4-.92-.59-1.43-.59-.52 0-1.04.2-1.43.59L10.3 9.45l-7.72 7.72c-.78.78-.78 2.05 0 2.83L4 21.41c.39.39.9.59 1.41.59.51 0 1.02-.2 1.41-.59l7.78-7.78 2.81-2.81c.8-.78.8-2.07 0-2.86zM5.41 20L4 18.59l7.72-7.72 1.47 1.35L5.41 20z\"/>\n",
              "  </svg>\n",
              "      </button>\n",
              "      \n",
              "  <style>\n",
              "    .colab-df-container {\n",
              "      display:flex;\n",
              "      flex-wrap:wrap;\n",
              "      gap: 12px;\n",
              "    }\n",
              "\n",
              "    .colab-df-convert {\n",
              "      background-color: #E8F0FE;\n",
              "      border: none;\n",
              "      border-radius: 50%;\n",
              "      cursor: pointer;\n",
              "      display: none;\n",
              "      fill: #1967D2;\n",
              "      height: 32px;\n",
              "      padding: 0 0 0 0;\n",
              "      width: 32px;\n",
              "    }\n",
              "\n",
              "    .colab-df-convert:hover {\n",
              "      background-color: #E2EBFA;\n",
              "      box-shadow: 0px 1px 2px rgba(60, 64, 67, 0.3), 0px 1px 3px 1px rgba(60, 64, 67, 0.15);\n",
              "      fill: #174EA6;\n",
              "    }\n",
              "\n",
              "    [theme=dark] .colab-df-convert {\n",
              "      background-color: #3B4455;\n",
              "      fill: #D2E3FC;\n",
              "    }\n",
              "\n",
              "    [theme=dark] .colab-df-convert:hover {\n",
              "      background-color: #434B5C;\n",
              "      box-shadow: 0px 1px 3px 1px rgba(0, 0, 0, 0.15);\n",
              "      filter: drop-shadow(0px 1px 2px rgba(0, 0, 0, 0.3));\n",
              "      fill: #FFFFFF;\n",
              "    }\n",
              "  </style>\n",
              "\n",
              "      <script>\n",
              "        const buttonEl =\n",
              "          document.querySelector('#df-50126b05-96df-468c-91b4-a17e0d98de06 button.colab-df-convert');\n",
              "        buttonEl.style.display =\n",
              "          google.colab.kernel.accessAllowed ? 'block' : 'none';\n",
              "\n",
              "        async function convertToInteractive(key) {\n",
              "          const element = document.querySelector('#df-50126b05-96df-468c-91b4-a17e0d98de06');\n",
              "          const dataTable =\n",
              "            await google.colab.kernel.invokeFunction('convertToInteractive',\n",
              "                                                     [key], {});\n",
              "          if (!dataTable) return;\n",
              "\n",
              "          const docLinkHtml = 'Like what you see? Visit the ' +\n",
              "            '<a target=\"_blank\" href=https://colab.research.google.com/notebooks/data_table.ipynb>data table notebook</a>'\n",
              "            + ' to learn more about interactive tables.';\n",
              "          element.innerHTML = '';\n",
              "          dataTable['output_type'] = 'display_data';\n",
              "          await google.colab.output.renderOutput(dataTable, element);\n",
              "          const docLink = document.createElement('div');\n",
              "          docLink.innerHTML = docLinkHtml;\n",
              "          element.appendChild(docLink);\n",
              "        }\n",
              "      </script>\n",
              "    </div>\n",
              "  </div>\n",
              "  "
            ]
          },
          "metadata": {},
          "execution_count": 41
        }
      ]
    },
    {
      "cell_type": "code",
      "source": [
        "## Splitting the dataset into train and test set\n",
        "from sklearn.model_selection import train_test_split\n",
        "x_train, x_test, y_train, y_test = train_test_split(x,y,test_size=0.25, random_state=42)"
      ],
      "metadata": {
        "id": "35x7OtrY3XWw"
      },
      "execution_count": 42,
      "outputs": []
    },
    {
      "cell_type": "code",
      "source": [
        "print(x_train.shape, x_test.shape, y_train.shape, y_test.shape )"
      ],
      "metadata": {
        "colab": {
          "base_uri": "https://localhost:8080/"
        },
        "id": "E4PMOkbo4X8t",
        "outputId": "79e83f0e-9d5a-4c7c-d828-819c7e12e558"
      },
      "execution_count": 43,
      "outputs": [
        {
          "output_type": "stream",
          "name": "stdout",
          "text": [
            "(7500, 11) (2500, 11) (7500,) (2500,)\n"
          ]
        }
      ]
    },
    {
      "cell_type": "code",
      "source": [
        "## Feature scaling with Standard Scaler\n",
        "\n",
        "from sklearn.preprocessing import StandardScaler\n",
        "\n",
        "sc = StandardScaler()\n",
        "x_train = sc.fit_transform(x_train)\n",
        "x_test = sc.transform(x_test)"
      ],
      "metadata": {
        "id": "ySaImVpw4U4s"
      },
      "execution_count": 44,
      "outputs": []
    },
    {
      "cell_type": "code",
      "source": [
        ""
      ],
      "metadata": {
        "id": "XxZSm93W5Orv"
      },
      "execution_count": null,
      "outputs": []
    },
    {
      "cell_type": "markdown",
      "source": [
        "# **Part 2: ANN Model Building and Compilation**"
      ],
      "metadata": {
        "id": "jZFTps8CCzON"
      }
    },
    {
      "cell_type": "code",
      "source": [
        "## Importing the Libraries related to keras\n",
        "\n",
        "import keras\n",
        "from keras.models import Sequential\n",
        "from keras.layers import Dense"
      ],
      "metadata": {
        "id": "kZ6bFX6j5ZSd"
      },
      "execution_count": 45,
      "outputs": []
    },
    {
      "cell_type": "code",
      "source": [
        "## ANN Model Building\n",
        "\n",
        "# Initialising the ANN\n",
        "model = Sequential()\n",
        "\n",
        "## adding the input layer and first Hidden Layer\n",
        "model.add(Dense(activation='relu',units=32, input_dim=11, kernel_initializer='uniform' ))\n",
        "\n",
        "## adding the 2nd Hidden layer\n",
        "model.add(Dense(activation='relu', units=64, kernel_initializer='uniform'))\n",
        "\n",
        "## adding the 3rd Hidden layer\n",
        "model.add(Dense(activation='relu', units=32, kernel_initializer='uniform'))\n",
        "\n",
        "## adding the output layer\n",
        "model.add(Dense(activation='sigmoid', units=1, kernel_initializer='uniform'))\n"
      ],
      "metadata": {
        "id": "hVyqUpqe57Ds"
      },
      "execution_count": 46,
      "outputs": []
    },
    {
      "cell_type": "code",
      "source": [
        "## Compiling the ANN Model\n",
        "model.compile(optimizer='adam', loss='binary_crossentropy', metrics=['accuracy'])"
      ],
      "metadata": {
        "id": "cdOw7mUD89Qr"
      },
      "execution_count": 47,
      "outputs": []
    },
    {
      "cell_type": "code",
      "source": [
        "model.summary()"
      ],
      "metadata": {
        "colab": {
          "base_uri": "https://localhost:8080/"
        },
        "id": "cc74yAp3FOOE",
        "outputId": "1b3d44c9-694e-40c0-d325-749411b631c6"
      },
      "execution_count": 48,
      "outputs": [
        {
          "output_type": "stream",
          "name": "stdout",
          "text": [
            "Model: \"sequential_2\"\n",
            "_________________________________________________________________\n",
            " Layer (type)                Output Shape              Param #   \n",
            "=================================================================\n",
            " dense_8 (Dense)             (None, 32)                384       \n",
            "                                                                 \n",
            " dense_9 (Dense)             (None, 64)                2112      \n",
            "                                                                 \n",
            " dense_10 (Dense)            (None, 32)                2080      \n",
            "                                                                 \n",
            " dense_11 (Dense)            (None, 1)                 33        \n",
            "                                                                 \n",
            "=================================================================\n",
            "Total params: 4,609\n",
            "Trainable params: 4,609\n",
            "Non-trainable params: 0\n",
            "_________________________________________________________________\n"
          ]
        }
      ]
    },
    {
      "cell_type": "code",
      "source": [
        "#Fitting the ANN Model to the training set\n",
        "model_history = model.fit(x_train, y_train, batch_size=12, epochs=55, validation_split=0.25)"
      ],
      "metadata": {
        "colab": {
          "base_uri": "https://localhost:8080/"
        },
        "id": "FhThwZj-9mdl",
        "outputId": "cc0ad6ae-4632-4d06-afa2-140e10c13969"
      },
      "execution_count": 49,
      "outputs": [
        {
          "output_type": "stream",
          "name": "stdout",
          "text": [
            "Epoch 1/55\n",
            "469/469 [==============================] - 2s 3ms/step - loss: 0.4667 - accuracy: 0.7922 - val_loss: 0.4326 - val_accuracy: 0.7936\n",
            "Epoch 2/55\n",
            "469/469 [==============================] - 1s 2ms/step - loss: 0.4238 - accuracy: 0.8073 - val_loss: 0.4158 - val_accuracy: 0.8363\n",
            "Epoch 3/55\n",
            "469/469 [==============================] - 1s 2ms/step - loss: 0.3887 - accuracy: 0.8434 - val_loss: 0.3695 - val_accuracy: 0.8549\n",
            "Epoch 4/55\n",
            "469/469 [==============================] - 1s 3ms/step - loss: 0.3558 - accuracy: 0.8590 - val_loss: 0.3612 - val_accuracy: 0.8528\n",
            "Epoch 5/55\n",
            "469/469 [==============================] - 1s 2ms/step - loss: 0.3454 - accuracy: 0.8624 - val_loss: 0.3541 - val_accuracy: 0.8555\n",
            "Epoch 6/55\n",
            "469/469 [==============================] - 1s 3ms/step - loss: 0.3433 - accuracy: 0.8631 - val_loss: 0.3590 - val_accuracy: 0.8533\n",
            "Epoch 7/55\n",
            "469/469 [==============================] - 1s 2ms/step - loss: 0.3401 - accuracy: 0.8613 - val_loss: 0.3463 - val_accuracy: 0.8592\n",
            "Epoch 8/55\n",
            "469/469 [==============================] - 1s 2ms/step - loss: 0.3385 - accuracy: 0.8640 - val_loss: 0.3539 - val_accuracy: 0.8581\n",
            "Epoch 9/55\n",
            "469/469 [==============================] - 1s 2ms/step - loss: 0.3380 - accuracy: 0.8644 - val_loss: 0.3548 - val_accuracy: 0.8475\n",
            "Epoch 10/55\n",
            "469/469 [==============================] - 1s 2ms/step - loss: 0.3359 - accuracy: 0.8636 - val_loss: 0.3555 - val_accuracy: 0.8512\n",
            "Epoch 11/55\n",
            "469/469 [==============================] - 1s 3ms/step - loss: 0.3367 - accuracy: 0.8645 - val_loss: 0.3465 - val_accuracy: 0.8555\n",
            "Epoch 12/55\n",
            "469/469 [==============================] - 1s 2ms/step - loss: 0.3334 - accuracy: 0.8663 - val_loss: 0.3445 - val_accuracy: 0.8544\n",
            "Epoch 13/55\n",
            "469/469 [==============================] - 1s 2ms/step - loss: 0.3312 - accuracy: 0.8693 - val_loss: 0.3650 - val_accuracy: 0.8539\n",
            "Epoch 14/55\n",
            "469/469 [==============================] - 1s 2ms/step - loss: 0.3300 - accuracy: 0.8663 - val_loss: 0.3448 - val_accuracy: 0.8560\n",
            "Epoch 15/55\n",
            "469/469 [==============================] - 1s 2ms/step - loss: 0.3316 - accuracy: 0.8658 - val_loss: 0.3479 - val_accuracy: 0.8539\n",
            "Epoch 16/55\n",
            "469/469 [==============================] - 1s 2ms/step - loss: 0.3275 - accuracy: 0.8677 - val_loss: 0.3453 - val_accuracy: 0.8603\n",
            "Epoch 17/55\n",
            "469/469 [==============================] - 1s 2ms/step - loss: 0.3285 - accuracy: 0.8667 - val_loss: 0.3421 - val_accuracy: 0.8560\n",
            "Epoch 18/55\n",
            "469/469 [==============================] - 1s 3ms/step - loss: 0.3279 - accuracy: 0.8706 - val_loss: 0.3603 - val_accuracy: 0.8533\n",
            "Epoch 19/55\n",
            "469/469 [==============================] - 2s 4ms/step - loss: 0.3254 - accuracy: 0.8684 - val_loss: 0.3496 - val_accuracy: 0.8517\n",
            "Epoch 20/55\n",
            "469/469 [==============================] - 1s 2ms/step - loss: 0.3264 - accuracy: 0.8679 - val_loss: 0.3508 - val_accuracy: 0.8571\n",
            "Epoch 21/55\n",
            "469/469 [==============================] - 1s 2ms/step - loss: 0.3235 - accuracy: 0.8708 - val_loss: 0.3461 - val_accuracy: 0.8597\n",
            "Epoch 22/55\n",
            "469/469 [==============================] - 1s 3ms/step - loss: 0.3222 - accuracy: 0.8699 - val_loss: 0.3461 - val_accuracy: 0.8469\n",
            "Epoch 23/55\n",
            "469/469 [==============================] - 1s 2ms/step - loss: 0.3225 - accuracy: 0.8736 - val_loss: 0.3599 - val_accuracy: 0.8507\n",
            "Epoch 24/55\n",
            "469/469 [==============================] - 1s 2ms/step - loss: 0.3219 - accuracy: 0.8725 - val_loss: 0.3488 - val_accuracy: 0.8517\n",
            "Epoch 25/55\n",
            "469/469 [==============================] - 1s 3ms/step - loss: 0.3201 - accuracy: 0.8704 - val_loss: 0.3597 - val_accuracy: 0.8544\n",
            "Epoch 26/55\n",
            "469/469 [==============================] - 1s 3ms/step - loss: 0.3200 - accuracy: 0.8738 - val_loss: 0.3512 - val_accuracy: 0.8576\n",
            "Epoch 27/55\n",
            "469/469 [==============================] - 2s 4ms/step - loss: 0.3188 - accuracy: 0.8702 - val_loss: 0.3538 - val_accuracy: 0.8480\n",
            "Epoch 28/55\n",
            "469/469 [==============================] - 1s 3ms/step - loss: 0.3179 - accuracy: 0.8725 - val_loss: 0.3485 - val_accuracy: 0.8565\n",
            "Epoch 29/55\n",
            "469/469 [==============================] - 1s 3ms/step - loss: 0.3161 - accuracy: 0.8718 - val_loss: 0.3480 - val_accuracy: 0.8528\n",
            "Epoch 30/55\n",
            "469/469 [==============================] - 1s 3ms/step - loss: 0.3158 - accuracy: 0.8722 - val_loss: 0.3485 - val_accuracy: 0.8528\n",
            "Epoch 31/55\n",
            "469/469 [==============================] - 1s 3ms/step - loss: 0.3151 - accuracy: 0.8736 - val_loss: 0.3467 - val_accuracy: 0.8571\n",
            "Epoch 32/55\n",
            "469/469 [==============================] - 1s 3ms/step - loss: 0.3126 - accuracy: 0.8727 - val_loss: 0.3590 - val_accuracy: 0.8555\n",
            "Epoch 33/55\n",
            "469/469 [==============================] - 1s 2ms/step - loss: 0.3123 - accuracy: 0.8752 - val_loss: 0.3490 - val_accuracy: 0.8597\n",
            "Epoch 34/55\n",
            "469/469 [==============================] - 1s 3ms/step - loss: 0.3128 - accuracy: 0.8743 - val_loss: 0.3532 - val_accuracy: 0.8560\n",
            "Epoch 35/55\n",
            "469/469 [==============================] - 1s 3ms/step - loss: 0.3098 - accuracy: 0.8788 - val_loss: 0.3559 - val_accuracy: 0.8480\n",
            "Epoch 36/55\n",
            "469/469 [==============================] - 1s 3ms/step - loss: 0.3109 - accuracy: 0.8775 - val_loss: 0.3513 - val_accuracy: 0.8587\n",
            "Epoch 37/55\n",
            "469/469 [==============================] - 1s 2ms/step - loss: 0.3069 - accuracy: 0.8789 - val_loss: 0.3533 - val_accuracy: 0.8501\n",
            "Epoch 38/55\n",
            "469/469 [==============================] - 1s 2ms/step - loss: 0.3064 - accuracy: 0.8770 - val_loss: 0.3520 - val_accuracy: 0.8560\n",
            "Epoch 39/55\n",
            "469/469 [==============================] - 1s 3ms/step - loss: 0.3053 - accuracy: 0.8768 - val_loss: 0.3581 - val_accuracy: 0.8549\n",
            "Epoch 40/55\n",
            "469/469 [==============================] - 1s 3ms/step - loss: 0.3063 - accuracy: 0.8789 - val_loss: 0.3557 - val_accuracy: 0.8555\n",
            "Epoch 41/55\n",
            "469/469 [==============================] - 2s 4ms/step - loss: 0.3043 - accuracy: 0.8802 - val_loss: 0.3657 - val_accuracy: 0.8480\n",
            "Epoch 42/55\n",
            "469/469 [==============================] - 1s 3ms/step - loss: 0.3023 - accuracy: 0.8788 - val_loss: 0.3621 - val_accuracy: 0.8491\n",
            "Epoch 43/55\n",
            "469/469 [==============================] - 1s 3ms/step - loss: 0.3006 - accuracy: 0.8827 - val_loss: 0.3600 - val_accuracy: 0.8533\n",
            "Epoch 44/55\n",
            "469/469 [==============================] - 1s 3ms/step - loss: 0.3017 - accuracy: 0.8779 - val_loss: 0.3592 - val_accuracy: 0.8533\n",
            "Epoch 45/55\n",
            "469/469 [==============================] - 1s 3ms/step - loss: 0.2973 - accuracy: 0.8784 - val_loss: 0.3523 - val_accuracy: 0.8565\n",
            "Epoch 46/55\n",
            "469/469 [==============================] - 1s 2ms/step - loss: 0.2989 - accuracy: 0.8789 - val_loss: 0.3570 - val_accuracy: 0.8533\n",
            "Epoch 47/55\n",
            "469/469 [==============================] - 1s 2ms/step - loss: 0.2941 - accuracy: 0.8844 - val_loss: 0.3602 - val_accuracy: 0.8533\n",
            "Epoch 48/55\n",
            "469/469 [==============================] - 1s 3ms/step - loss: 0.2958 - accuracy: 0.8811 - val_loss: 0.3576 - val_accuracy: 0.8576\n",
            "Epoch 49/55\n",
            "469/469 [==============================] - 1s 2ms/step - loss: 0.2950 - accuracy: 0.8827 - val_loss: 0.3636 - val_accuracy: 0.8459\n",
            "Epoch 50/55\n",
            "469/469 [==============================] - 1s 3ms/step - loss: 0.2942 - accuracy: 0.8827 - val_loss: 0.3579 - val_accuracy: 0.8549\n",
            "Epoch 51/55\n",
            "469/469 [==============================] - 1s 3ms/step - loss: 0.2934 - accuracy: 0.8818 - val_loss: 0.3698 - val_accuracy: 0.8549\n",
            "Epoch 52/55\n",
            "469/469 [==============================] - 1s 2ms/step - loss: 0.2906 - accuracy: 0.8844 - val_loss: 0.3606 - val_accuracy: 0.8507\n",
            "Epoch 53/55\n",
            "469/469 [==============================] - 1s 2ms/step - loss: 0.2899 - accuracy: 0.8850 - val_loss: 0.3749 - val_accuracy: 0.8464\n",
            "Epoch 54/55\n",
            "469/469 [==============================] - 1s 2ms/step - loss: 0.2878 - accuracy: 0.8852 - val_loss: 0.3678 - val_accuracy: 0.8432\n",
            "Epoch 55/55\n",
            "469/469 [==============================] - 1s 2ms/step - loss: 0.2880 - accuracy: 0.8860 - val_loss: 0.3672 - val_accuracy: 0.8555\n"
          ]
        }
      ]
    },
    {
      "cell_type": "code",
      "source": [
        ""
      ],
      "metadata": {
        "id": "dQeXe-WtDDLr"
      },
      "execution_count": null,
      "outputs": []
    },
    {
      "cell_type": "markdown",
      "source": [
        "# **Part 3: ANN Model Performance**"
      ],
      "metadata": {
        "id": "46GA8Wz5DFTK"
      }
    },
    {
      "cell_type": "code",
      "source": [
        "##Predicting the Test set result\n",
        "y_pred = model.predict(x_test)\n",
        "y_pred = (y_pred > 0.5)\n"
      ],
      "metadata": {
        "id": "qQfePg7y9_IJ"
      },
      "execution_count": 60,
      "outputs": []
    },
    {
      "cell_type": "code",
      "source": [
        "## Confusion Matrix\n",
        "from sklearn.metrics import confusion_matrix, accuracy_score, classification_report\n",
        "cm = confusion_matrix(y_test, y_pred)\n",
        "cm"
      ],
      "metadata": {
        "colab": {
          "base_uri": "https://localhost:8080/"
        },
        "id": "Et1Q5U4y-ern",
        "outputId": "fd8b7303-c38a-4b1a-f36b-e22da407cb13"
      },
      "execution_count": 61,
      "outputs": [
        {
          "output_type": "execute_result",
          "data": {
            "text/plain": [
              "array([[1924,   79],\n",
              "       [ 279,  218]])"
            ]
          },
          "metadata": {},
          "execution_count": 61
        }
      ]
    },
    {
      "cell_type": "code",
      "source": [
        "import seaborn as sns\n",
        "plt.figure(figsize=(6,4))\n",
        "sns.heatmap(cm, annot=True, fmt='d', square=True, cmap='vlag')\n",
        "plt.xlabel('Predicted')\n",
        "plt.ylabel('Actual')"
      ],
      "metadata": {
        "colab": {
          "base_uri": "https://localhost:8080/",
          "height": 296
        },
        "id": "AYNgWfo0hJVv",
        "outputId": "037b1553-490b-4c0f-e3d4-29da59a2f48d"
      },
      "execution_count": 64,
      "outputs": [
        {
          "output_type": "execute_result",
          "data": {
            "text/plain": [
              "Text(83.40000000000006, 0.5, 'Actual')"
            ]
          },
          "metadata": {},
          "execution_count": 64
        },
        {
          "output_type": "display_data",
          "data": {
            "text/plain": [
              "<Figure size 432x288 with 2 Axes>"
            ],
            "image/png": "[encoded data removed]"
          },
          "metadata": {
            "needs_background": "light"
          }
        }
      ]
    },
    {
      "cell_type": "code",
      "source": [
        "accuracy = accuracy_score(y_test, y_pred)\n",
        "accuracy"
      ],
      "metadata": {
        "colab": {
          "base_uri": "https://localhost:8080/"
        },
        "id": "ZwJzWhsa_DPk",
        "outputId": "145fdd39-31a6-48a2-da35-b3cd36ffdc35"
      },
      "execution_count": 52,
      "outputs": [
        {
          "output_type": "execute_result",
          "data": {
            "text/plain": [
              "0.8568"
            ]
          },
          "metadata": {},
          "execution_count": 52
        }
      ]
    },
    {
      "cell_type": "code",
      "source": [
        "classification_report(y_test, y_pred)"
      ],
      "metadata": {
        "colab": {
          "base_uri": "https://localhost:8080/",
          "height": 70
        },
        "id": "DwiCejZF_GvY",
        "outputId": "4d199e5c-02d3-483c-83aa-de61f2cf6056"
      },
      "execution_count": 53,
      "outputs": [
        {
          "output_type": "execute_result",
          "data": {
            "text/plain": [
              "'              precision    recall  f1-score   support\\n\\n           0       0.87      0.96      0.91      2003\\n           1       0.73      0.44      0.55       497\\n\\n    accuracy                           0.86      2500\\n   macro avg       0.80      0.70      0.73      2500\\nweighted avg       0.85      0.86      0.84      2500\\n'"
            ],
            "application/vnd.google.colaboratory.intrinsic+json": {
              "type": "string"
            }
          },
          "metadata": {},
          "execution_count": 53
        }
      ]
    },
    {
      "cell_type": "markdown",
      "source": [
        "# **Part 4: Graphical Representation of Model Accuracy and Loss**"
      ],
      "metadata": {
        "id": "JFXcoL39Ceg-"
      }
    },
    {
      "cell_type": "code",
      "source": [
        "plt.plot(model_history.history[\"accuracy\"], label=\"training Accuracy\")\n",
        "plt.plot(model_history.history[\"val_accuracy\"], label=\"Validation Accuracy\")\n",
        "plt.xlabel(\"Number of Epochs\")\n",
        "plt.ylabel(\"Accuracy\")\n",
        "plt.legend()\n",
        "plt.title(\"Accuracy VS Epochs\")\n"
      ],
      "metadata": {
        "colab": {
          "base_uri": "https://localhost:8080/",
          "height": 312
        },
        "id": "R7uzztE5-zGr",
        "outputId": "25fcfade-b60a-4228-ed3f-41700920c1d7"
      },
      "execution_count": 54,
      "outputs": [
        {
          "output_type": "execute_result",
          "data": {
            "text/plain": [
              "Text(0.5, 1.0, 'Accuracy VS Epochs')"
            ]
          },
          "metadata": {},
          "execution_count": 54
        },
        {
          "output_type": "display_data",
          "data": {
            "text/plain": [
              "<Figure size 432x288 with 1 Axes>"
            ],
            "image/png": "[encoded data removed]"
          },
          "metadata": {
            "needs_background": "light"
          }
        }
      ]
    },
    {
      "cell_type": "code",
      "source": [
        "plt.plot(model_history.history[\"loss\"], label=\"training Loss\")\n",
        "plt.plot(model_history.history[\"val_loss\"], label=\"Validation Loss\")\n",
        "plt.xlabel(\"Number of Epochs\")\n",
        "plt.ylabel(\"Loss\")\n",
        "plt.legend()\n",
        "plt.title(\"Loss VS Epochs\")"
      ],
      "metadata": {
        "colab": {
          "base_uri": "https://localhost:8080/",
          "height": 312
        },
        "id": "PTON8ejW-3DQ",
        "outputId": "c3d04499-f209-4149-c037-6fb28f853698"
      },
      "execution_count": 55,
      "outputs": [
        {
          "output_type": "execute_result",
          "data": {
            "text/plain": [
              "Text(0.5, 1.0, 'Loss VS Epochs')"
            ]
          },
          "metadata": {},
          "execution_count": 55
        },
        {
          "output_type": "display_data",
          "data": {
            "text/plain": [
              "<Figure size 432x288 with 1 Axes>"
            ],
            "image/png": "[encoded data removed]"
          },
          "metadata": {
            "needs_background": "light"
          }
        }
      ]
    }
  ]
}